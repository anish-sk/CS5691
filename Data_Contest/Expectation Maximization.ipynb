{
 "cells": [
  {
   "cell_type": "code",
   "execution_count": 5,
   "metadata": {},
   "outputs": [],
   "source": [
    "import matplotlib.pyplot as ply\n",
    "import numpy as np\n",
    "import pandas as pd\n",
    "\n",
    "N = 20\n",
    "D = 4\n",
    "X = np.array([[1,0,0,0,0,0,0,0,0,0,1,1,1,1,1,1,0,1,1,1],\n",
    "              [0,0,1,0,0,0,0,0,0,0,1,1,1,1,0,1,1,1,1,1],\n",
    "              [1,0,0,1,1,1,0,1,0,0,1,0,1,0,1,1,0,0,1,0],\n",
    "              [1,1,1,1,1,0,1,1,1,1,0,0,0,1,0,0,0,0,0,0]]).T\n",
    "alpha = 0.5\n",
    "mu = np.array([0.1, 0.1, 0.1, 0.1])\n",
    "gamma = np.zeros(N)\n",
    "\n",
    "def expectation():\n",
    "    for i in range(N):\n",
    "        numerator = alpha\n",
    "        denominator = 1 - alpha\n",
    "        for j in range(D):\n",
    "            numerator *= ((1-mu[j]) ** X[i][j]) * ((mu[j]) ** (1-X[i][j]))\n",
    "            denominator *= ((mu[j]) ** X[i][j]) * ((1-mu[j]) ** (1-X[i][j]))\n",
    "        denominator += numerator\n",
    "        gamma[i] = float(numerator)/float(denominator)\n",
    "        \n",
    "def maximization():\n",
    "    for j in range(D):\n",
    "        error = 0\n",
    "        for i in range(N):\n",
    "            error += gamma[i] + X[i][j] - 2*gamma[i]*X[i][j]\n",
    "        mu[j] = float(error)/float(N)\n",
    "    alpha = float(np.sum(gamma))/float(N)\n",
    "    \n",
    "num_iter = 10\n",
    "gamma_iter = []\n",
    "mu_iter = []\n",
    "alpha_iter = []\n",
    "\n",
    "for i in range(num_iter):\n",
    "    expectation()\n",
    "    maximization()\n",
    "    gamma_iter.append(['%.3f' % elem for elem in gamma])\n",
    "    mu_iter.append(['%.3f' % elem for elem in mu])\n",
    "    alpha_iter.append(alpha)\n",
    "   \n",
    "writer = pd.ExcelWriter(\"vals.xlsx\", engine = 'xlsxwriter')\n",
    "df1 = pd.DataFrame(gamma_iter)\n",
    "df1.to_excel(writer, sheet_name='Gamma')\n",
    "df1 = pd.DataFrame(mu_iter)\n",
    "df1.to_excel(writer, sheet_name='Mu')\n",
    "df1 = pd.DataFrame(alpha_iter)\n",
    "df1.to_excel(writer, sheet_name='Alpha')\n",
    "writer.save()\n",
    "writer.close()"
   ]
  }
 ],
 "metadata": {
  "kernelspec": {
   "display_name": "Python 3",
   "language": "python",
   "name": "python3"
  },
  "language_info": {
   "codemirror_mode": {
    "name": "ipython",
    "version": 3
   },
   "file_extension": ".py",
   "mimetype": "text/x-python",
   "name": "python",
   "nbconvert_exporter": "python",
   "pygments_lexer": "ipython3",
   "version": "3.7.4"
  }
 },
 "nbformat": 4,
 "nbformat_minor": 4
}
