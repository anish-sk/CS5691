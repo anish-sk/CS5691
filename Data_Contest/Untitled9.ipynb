{
 "cells": [
  {
   "cell_type": "code",
   "execution_count": 1,
   "metadata": {},
   "outputs": [],
   "source": [
    "import pandas as pd\n",
    "import numpy as np\n",
    "import matplotlib.pyplot as plt\n",
    "%matplotlib inline\n",
    "from sklearn.model_selection import train_test_split, StratifiedKFold,StratifiedShuffleSplit\n",
    "\n",
    "from sklearn.metrics import accuracy_score\n",
    "from sklearn.model_selection import RandomizedSearchCV, cross_val_score\n",
    "import lightgbm as lgb"
   ]
  },
  {
   "cell_type": "code",
   "execution_count": 2,
   "metadata": {},
   "outputs": [],
   "source": [
    "X=pd.read_csv(\"Data/x_2.csv\", header=None)\n",
    "Y=pd.read_csv(\"Data/y_2.csv\", header=None)\n",
    "test_X=pd.read_csv(\"Data/test_x_2.csv\", header=None)"
   ]
  },
  {
   "cell_type": "code",
   "execution_count": 3,
   "metadata": {},
   "outputs": [
    {
     "data": {
      "text/html": [
       "<div>\n",
       "<style scoped>\n",
       "    .dataframe tbody tr th:only-of-type {\n",
       "        vertical-align: middle;\n",
       "    }\n",
       "\n",
       "    .dataframe tbody tr th {\n",
       "        vertical-align: top;\n",
       "    }\n",
       "\n",
       "    .dataframe thead th {\n",
       "        text-align: right;\n",
       "    }\n",
       "</style>\n",
       "<table border=\"1\" class=\"dataframe\">\n",
       "  <thead>\n",
       "    <tr style=\"text-align: right;\">\n",
       "      <th></th>\n",
       "      <th>0</th>\n",
       "    </tr>\n",
       "  </thead>\n",
       "  <tbody>\n",
       "    <tr>\n",
       "      <th>0</th>\n",
       "      <td>0</td>\n",
       "    </tr>\n",
       "    <tr>\n",
       "      <th>1</th>\n",
       "      <td>0</td>\n",
       "    </tr>\n",
       "    <tr>\n",
       "      <th>2</th>\n",
       "      <td>1</td>\n",
       "    </tr>\n",
       "    <tr>\n",
       "      <th>3</th>\n",
       "      <td>0</td>\n",
       "    </tr>\n",
       "    <tr>\n",
       "      <th>4</th>\n",
       "      <td>0</td>\n",
       "    </tr>\n",
       "    <tr>\n",
       "      <th>...</th>\n",
       "      <td>...</td>\n",
       "    </tr>\n",
       "    <tr>\n",
       "      <th>13861</th>\n",
       "      <td>0</td>\n",
       "    </tr>\n",
       "    <tr>\n",
       "      <th>13862</th>\n",
       "      <td>0</td>\n",
       "    </tr>\n",
       "    <tr>\n",
       "      <th>13863</th>\n",
       "      <td>0</td>\n",
       "    </tr>\n",
       "    <tr>\n",
       "      <th>13864</th>\n",
       "      <td>0</td>\n",
       "    </tr>\n",
       "    <tr>\n",
       "      <th>13865</th>\n",
       "      <td>1</td>\n",
       "    </tr>\n",
       "  </tbody>\n",
       "</table>\n",
       "<p>13866 rows × 1 columns</p>\n",
       "</div>"
      ],
      "text/plain": [
       "       0\n",
       "0      0\n",
       "1      0\n",
       "2      1\n",
       "3      0\n",
       "4      0\n",
       "...   ..\n",
       "13861  0\n",
       "13862  0\n",
       "13863  0\n",
       "13864  0\n",
       "13865  1\n",
       "\n",
       "[13866 rows x 1 columns]"
      ]
     },
     "execution_count": 3,
     "metadata": {},
     "output_type": "execute_result"
    }
   ],
   "source": [
    "pd.set_option('display.max_columns',None)\n",
    "Y"
   ]
  },
  {
   "cell_type": "code",
   "execution_count": 4,
   "metadata": {},
   "outputs": [],
   "source": [
    "fit_params={#\"early_stopping_rounds\":30, \n",
    "            \"metric\" : 'auc', \n",
    "            #\"eval_set\" : [(x_val,y_val)],\n",
    "            #'categorical_feature': 'auto',\n",
    "            'random_state':0,\n",
    "            'deterministic':True,\n",
    "            'n_jobs':1,\n",
    "            'num_leaves':27,\n",
    "            'n_estimators':300,\n",
    "#             'max_depth':1000,\n",
    "            'reg_lambda':0.00000,\n",
    "            'learning_rate':0.05200,\n",
    "#             'is_unbalance':True,\n",
    "#             'scale_pos_weight':1.1,\n",
    "#             'min_child_samples':21,\n",
    "            'subsample_freq':10,\n",
    "            'subsample': 0.9101\n",
    "}"
   ]
  },
  {
   "cell_type": "code",
   "execution_count": 5,
   "metadata": {},
   "outputs": [],
   "source": [
    "cat_features = [0,1,2,3,4,5,6,7,11,12,13,14,15,128,129,137,138,139,140,141,142,143,144,145,146,147,148,149,150,151,155,156,157,171,172,173,174,182]\n",
    "for c in cat_features:\n",
    "    if (c+2) not in X:\n",
    "        continue\n",
    "    col_type = X[c+2].dtype\n",
    "    if col_type == 'object' or col_type.name == 'category':\n",
    "        X[c+2] = X[c+2].astype('category')\n",
    "        test_X[c+2] = test_X[c+2].astype('category')"
   ]
  },
  {
   "cell_type": "code",
   "execution_count": 6,
   "metadata": {},
   "outputs": [],
   "source": [
    "X.iloc[:,12]=X.iloc[:,12].astype('category')\n",
    "test_X.iloc[:,12]=test_X.iloc[:,12].astype('category')"
   ]
  },
  {
   "cell_type": "code",
   "execution_count": 7,
   "metadata": {},
   "outputs": [
    {
     "name": "stdout",
     "output_type": "stream",
     "text": [
      "StratifiedShuffleSplit(n_splits=100, random_state=0, test_size=0.1,\n",
      "            train_size=None)\n",
      "                0\n",
      "count  100.000000\n",
      "mean     0.565231\n",
      "std      0.011309\n",
      "min      0.537692\n",
      "25%      0.558242\n",
      "50%      0.565333\n",
      "75%      0.572275\n",
      "max      0.594178\n",
      "35\n",
      "[0.56478223 0.56029822 0.5731588  0.56090416 0.55924031]\n",
      "Accuracy: 0.5637 (+/- 0.0102)\n"
     ]
    }
   ],
   "source": [
    "clf = lgb.LGBMClassifier(**fit_params)\n",
    "from sklearn.metrics import log_loss\n",
    "preds = np.zeros(test_X.shape[0])\n",
    "n_bag = 100\n",
    "sss = StratifiedShuffleSplit(n_splits=n_bag, test_size=0.1, random_state=0)\n",
    "sss.get_n_splits(X, Y)\n",
    "print(sss)       \n",
    "ct = 0\n",
    "bs = []\n",
    "for train_index, test_index in sss.split(X, Y):\n",
    "#     break\n",
    "    X_train, X_test = X.iloc[train_index], X.iloc[test_index]\n",
    "    y_train, y_test = Y.iloc[train_index], Y.iloc[test_index]\n",
    "    clf.fit(X_train, y_train.values.ravel())\n",
    "    a = (1-log_loss(y_test, clf.predict_proba(X_test)[:,1]))\n",
    "    if a > 0.57:\n",
    "    #print(a)\n",
    "        preds += clf.predict_proba(test_X)[:,1]\n",
    "        ct+=1\n",
    "    bs.append(a)\n",
    "\n",
    "df_describe = pd.DataFrame(bs)\n",
    "print(df_describe.describe())\n",
    "print(ct)\n",
    "scores = 1+cross_val_score(clf, X, Y.values.ravel(), cv = 5, scoring = 'neg_log_loss')\n",
    "print(scores)\n",
    "print(\"Accuracy: %0.4f (+/- %0.4f)\" % (scores.mean(), scores.std() * 2))"
   ]
  }
 ],
 "metadata": {
  "kernelspec": {
   "display_name": "Python 3",
   "language": "python",
   "name": "python3"
  },
  "language_info": {
   "codemirror_mode": {
    "name": "ipython",
    "version": 3
   },
   "file_extension": ".py",
   "mimetype": "text/x-python",
   "name": "python",
   "nbconvert_exporter": "python",
   "pygments_lexer": "ipython3",
   "version": "3.7.4"
  }
 },
 "nbformat": 4,
 "nbformat_minor": 4
}
